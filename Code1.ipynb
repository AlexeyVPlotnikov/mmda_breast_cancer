{
 "cells": [
  {
   "cell_type": "code",
   "execution_count": 4,
   "metadata": {},
   "outputs": [],
   "source": [
    "import numpy as np\n",
    "import pandas as pd\n",
    "import matplotlib.pyplot as plt\n",
    "from sklearn.preprocessing import StandardScaler\n",
    "from sklearn.cluster import KMeans"
   ]
  },
  {
   "cell_type": "code",
   "execution_count": 3,
   "metadata": {},
   "outputs": [],
   "source": [
    "df = pd.read_csv('./data.csv')\n",
    "useful_columns = set(list(filter(lambda name: 'mean'  in name, df.columns)) + ['id', 'diagnosis'])\n",
    "df = df.drop(list(filter(lambda name: name not in useful_columns, df.columns)), 1)\n",
    "mapper = {\"M\": 1, 'B':0}\n",
    "\n",
    "df['diagnosis'] = df['diagnosis'].apply(lambda x: mapper[x])"
   ]
  },
  {
   "cell_type": "code",
   "execution_count": 5,
   "metadata": {},
   "outputs": [],
   "source": [
    "kmeans_features = ['radius_mean', 'texture_mean', 'perimeter_mean', 'smoothness_mean', 'concavity_mean']\n",
    "kmeans_df = df[['diagnosis'] + kmeans_features]"
   ]
  },
  {
   "cell_type": "code",
   "execution_count": 6,
   "metadata": {},
   "outputs": [],
   "source": [
    "def getBestKMeans(X, n_clusters, n_trials=10): \n",
    "    best_kmeans = None\n",
    "    scaler = StandardScaler()\n",
    "    X_scaled = scaler.fit_transform(X)\n",
    "    for _ in range(n_trials):\n",
    "        rnd_seed = np.random.randint(0, 10**6)\n",
    "        kmeans = KMeans(n_clusters=n_clusters, init='random', random_state=rnd_seed)\n",
    "        kmeans.fit(X_scaled)\n",
    "        if best_kmeans is None or kmeans.inertia_ < best_kmeans.inertia_:\n",
    "            best_kmeans = kmeans\n",
    "    return best_kmeans       "
   ]
  },
  {
   "cell_type": "code",
   "execution_count": 7,
   "metadata": {},
   "outputs": [],
   "source": [
    "kmeans = getBestKMeans(kmeans_df.drop(['diagnosis'], 1), 5)"
   ]
  },
  {
   "cell_type": "code",
   "execution_count": 27,
   "metadata": {},
   "outputs": [
    {
     "data": {
      "text/plain": [
       "569"
      ]
     },
     "execution_count": 27,
     "metadata": {},
     "output_type": "execute_result"
    }
   ],
   "source": [
    "kmeans_df\n",
    "kmeans_df[kmeans.labels_ == 1] # кластер\n",
    "feature = kmeans_df[kmeans.labels_ == 1].smoothness_mean.values\n",
    "len(kmeans_df)"
   ]
  },
  {
   "cell_type": "code",
   "execution_count": 61,
   "metadata": {},
   "outputs": [],
   "source": [
    "def bootstrap_mean(vector):\n",
    "    \"\"\"\n",
    "    input:\n",
    "    vector: input array to calculate bootstrap\n",
    "    \n",
    "    returns: \n",
    "    means_array: vector of mean for each iteration\n",
    "    \"\"\"\n",
    "    K = 10000 # number of iterations\n",
    "    N = 0.6 # procent of array size to take from array to random set \n",
    "    \n",
    "    means_array = []\n",
    "    \n",
    "    # Mean computations\n",
    "    for iter in range(K):\n",
    "        random_vector = np.random.choice(vector, size = int(N * len(vector)))\n",
    "        mean = np.mean(random_vector)\n",
    "        means_array.append(mean)\n",
    "    return means_array\n",
    "\n",
    "def bootstrap_pivot(means_array):\n",
    "    \"\"\"\n",
    "    Calculating bootstrap with pivot method.\n",
    "    input:\n",
    "    means_array: input array of means\n",
    "    \n",
    "    returns: \n",
    "    tuple of left boundary and right boundary\n",
    "    \"\"\"\n",
    "    means_mean = np.mean(means)\n",
    "    means_std = np.std(means)\n",
    "    \n",
    "    # Calculate left and right boundary by Gaussian distribution\n",
    "    left = means_mean - 1.96 * means_std\n",
    "    right = means_mean + 1.96 * means_std\n",
    "    return round(left, 6), round(right, 6)\n",
    "\n",
    "\n",
    "def bootstrap_non_pivot(means_array):\n",
    "    \"\"\"\n",
    "    Calculating bootstrap with non-pivot method.\n",
    "    input:\n",
    "    means_array: input array of means\n",
    "    \n",
    "    returns: \n",
    "    tuple of left boundary and right boundary\n",
    "    \"\"\"\n",
    "    alpha = 0.95 # 1 - alpha level \n",
    "    # Calculate left and right boundary by Gaussian distribution throuw quantiles\n",
    "    left = np.quantile(means_array, 0.5 - alpha / 2)\n",
    "    right = np.quantile(means_array, 0.5 + alpha / 2)\n",
    "    \n",
    "    return round(left, 6), round(right, 6) "
   ]
  },
  {
   "cell_type": "code",
   "execution_count": 62,
   "metadata": {},
   "outputs": [
    {
     "data": {
      "text/plain": [
       "((0.094863, 0.097851), (0.094892, 0.097869))"
      ]
     },
     "execution_count": 62,
     "metadata": {},
     "output_type": "execute_result"
    }
   ],
   "source": [
    "means = bootstrap_mean(vector = kmeans_df.smoothness_mean.values)\n",
    "pivot_boundaries = bootstrap_pivot(means_array = means)\n",
    "non_pivot_boundaries = bootstrap_non_pivot(means_array = means)\n",
    "\n",
    "pivot_boundaries, non_pivot_boundaries"
   ]
  },
  {
   "cell_type": "code",
   "execution_count": 59,
   "metadata": {},
   "outputs": [
    {
     "data": {
      "image/png": "[encoded data removed]",
      "text/plain": [
       "<Figure size 432x288 with 1 Axes>"
      ]
     },
     "metadata": {
      "needs_background": "light"
     },
     "output_type": "display_data"
    }
   ],
   "source": [
    "plt.xlabel(\"The 95% confidence interval for Grand mean by using bootstrap\")\n",
    "plt.hist(means, bins=30, edgecolor='black');\n",
    "plt.savefig('bootstrap_mean.png')"
   ]
  },
  {
   "cell_type": "code",
   "execution_count": 64,
   "metadata": {},
   "outputs": [],
   "source": [
    "cluster_1 = kmeans_df[kmeans.labels_ == 0].smoothness_mean.values\n",
    "cluster_3 = kmeans_df[kmeans.labels_ == 2].smoothness_mean.values"
   ]
  },
  {
   "cell_type": "code",
   "execution_count": 65,
   "metadata": {},
   "outputs": [],
   "source": [
    "def bootstrap_mean_two_array(vector1, vector2):\n",
    "    \"\"\"\n",
    "    input:\n",
    "    vector1: first input array to calculate bootstrap\n",
    "    vector2: second input array to calculate bootstrap\n",
    "    \n",
    "    returns: \n",
    "    means_array: vector of mean for each iteration\n",
    "    \"\"\"\n",
    "    K = 10000 # number of iterations\n",
    "    N = 0.6 # procent of array size to take from array to random set \n",
    "    \n",
    "    means_array = []\n",
    "    common_len = min(len(vector1), len(vector2))\n",
    "    \n",
    "    # Mean computations\n",
    "    for iter in range(K):\n",
    "        random_vector1 = np.random.choice(vector1, size = int(N * common_len))\n",
    "        random_vector2 = np.random.choice(vector2, size = int(N * common_len))\n",
    "        mean = np.mean(random_vector1) - np.mean(random_vector2)\n",
    "        means_array.append(np.abs(mean))\n",
    "    return means_array"
   ]
  },
  {
   "cell_type": "code",
   "execution_count": 67,
   "metadata": {},
   "outputs": [
    {
     "data": {
      "text/plain": [
       "((0.009428, 0.016933), (0.009414, 0.016958))"
      ]
     },
     "execution_count": 67,
     "metadata": {},
     "output_type": "execute_result"
    }
   ],
   "source": [
    "means = bootstrap_mean_two_array(vector1 = cluster_1, vector2 = cluster_3)\n",
    "pivot_boundaries = bootstrap_pivot(means_array = means)\n",
    "non_pivot_boundaries = bootstrap_non_pivot(means_array = means)\n",
    "\n",
    "pivot_boundaries, non_pivot_boundaries"
   ]
  },
  {
   "cell_type": "code",
   "execution_count": 68,
   "metadata": {},
   "outputs": [
    {
     "data": {
      "image/png": "[encoded data removed]",
      "text/plain": [
       "<Figure size 432x288 with 1 Axes>"
      ]
     },
     "metadata": {
      "needs_background": "light"
     },
     "output_type": "display_data"
    }
   ],
   "source": [
    "plt.xlabel(\"Difference between cluster 1 and 3\");\n",
    "plt.hist(means, bins=40, edgecolor='black');\n",
    "plt.savefig('boot_diference.png')"
   ]
  },
  {
   "cell_type": "code",
   "execution_count": 73,
   "metadata": {},
   "outputs": [
    {
     "data": {
      "text/plain": [
       "((-0.013519, -0.008308), (-0.013577, -0.008369))"
      ]
     },
     "execution_count": 73,
     "metadata": {},
     "output_type": "execute_result"
    }
   ],
   "source": [
    "Grand_mean = np.mean(kmeans_df.smoothness_mean.values)\n",
    "\n",
    "means = bootstrap_mean(vector = cluster_1 - Grand_mean)\n",
    "pivot_boundaries = bootstrap_pivot(means_array = means)\n",
    "non_pivot_boundaries = bootstrap_non_pivot(means_array = means)\n",
    "\n",
    "pivot_boundaries, non_pivot_boundaries"
   ]
  },
  {
   "cell_type": "code",
   "execution_count": 75,
   "metadata": {},
   "outputs": [
    {
     "data": {
      "image/png": "[encoded data removed]",
      "text/plain": [
       "<Figure size 432x288 with 1 Axes>"
      ]
     },
     "metadata": {
      "needs_background": "light"
     },
     "output_type": "display_data"
    }
   ],
   "source": [
    "plt.xlabel(\"The 95% confidence interval for (Cluster_1 - Grand_mean) by using bootstrap\")\n",
    "plt.hist(means, bins=35, edgecolor='black');\n",
    "plt.savefig('boot_grandmean')"
   ]
  },
  {
   "cell_type": "code",
   "execution_count": null,
   "metadata": {},
   "outputs": [],
   "source": []
  }
 ],
 "metadata": {
  "kernelspec": {
   "display_name": "Python 3",
   "language": "python",
   "name": "python3"
  },
  "language_info": {
   "codemirror_mode": {
    "name": "ipython",
    "version": 3
   },
   "file_extension": ".py",
   "mimetype": "text/x-python",
   "name": "python",
   "nbconvert_exporter": "python",
   "pygments_lexer": "ipython3",
   "version": "3.9.0"
  }
 },
 "nbformat": 4,
 "nbformat_minor": 4
}
