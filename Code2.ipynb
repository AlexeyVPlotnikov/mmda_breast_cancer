{
 "cells": [
  {
   "cell_type": "code",
   "execution_count": 39,
   "metadata": {
    "scrolled": true
   },
   "outputs": [],
   "source": [
    "import pandas as pd\n",
    "import matplotlib as plt\n",
    "import numpy as np"
   ]
  },
  {
   "cell_type": "code",
   "execution_count": 40,
   "metadata": {},
   "outputs": [],
   "source": [
    "df = pd.read_csv('./data.csv')\n",
    "useful_columns = set(list(filter(lambda name: 'mean'  in name, df.columns)) + ['id', 'diagnosis'])\n",
    "df = df.drop(list(filter(lambda name: name not in useful_columns, df.columns)), 1)"
   ]
  },
  {
   "cell_type": "code",
   "execution_count": 42,
   "metadata": {},
   "outputs": [],
   "source": [
    "col1 = 'radius_mean'\n",
    "col2 = 'texture_mean'\n",
    "col3 = 'concavity_mean'"
   ]
  },
  {
   "cell_type": "code",
   "execution_count": 43,
   "metadata": {
    "scrolled": true
   },
   "outputs": [
    {
     "data": {
      "image/png": "[encoded data removed]",
      "text/plain": [
       "<Figure size 432x288 with 1 Axes>"
      ]
     },
     "metadata": {
      "needs_background": "light"
     },
     "output_type": "display_data"
    }
   ],
   "source": [
    "df[col1].hist(bins=40)\n",
    "plt.pyplot.title('Radius')\n",
    "plt.pyplot.savefig('radius.png')"
   ]
  },
  {
   "cell_type": "code",
   "execution_count": 44,
   "metadata": {},
   "outputs": [],
   "source": [
    "boundaries1 = [0, 10, 14, 17, 23, 30]"
   ]
  },
  {
   "cell_type": "code",
   "execution_count": 45,
   "metadata": {},
   "outputs": [
    {
     "data": {
      "image/png": "[encoded data removed]",
      "text/plain": [
       "<Figure size 432x288 with 1 Axes>"
      ]
     },
     "metadata": {
      "needs_background": "light"
     },
     "output_type": "display_data"
    }
   ],
   "source": [
    "df[col2].hist(bins=40)\n",
    "plt.pyplot.title('Texture')\n",
    "plt.pyplot.savefig('texture.png')"
   ]
  },
  {
   "cell_type": "code",
   "execution_count": 46,
   "metadata": {},
   "outputs": [],
   "source": [
    "boundaries2 = [0, 14, 21, 27, 41]"
   ]
  },
  {
   "cell_type": "code",
   "execution_count": 48,
   "metadata": {},
   "outputs": [
    {
     "data": {
      "image/png": "[encoded data removed]",
      "text/plain": [
       "<Figure size 432x288 with 1 Axes>"
      ]
     },
     "metadata": {
      "needs_background": "light"
     },
     "output_type": "display_data"
    }
   ],
   "source": [
    "df[col3].hist(bins=40)\n",
    "plt.pyplot.title('Concavity')\n",
    "plt.pyplot.savefig('concavity.png')"
   ]
  },
  {
   "cell_type": "code",
   "execution_count": 49,
   "metadata": {},
   "outputs": [],
   "source": [
    "boundaries3 = [0, 0.04, 0.15, 0.25, 0.35, 0.5]"
   ]
  },
  {
   "cell_type": "code",
   "execution_count": 65,
   "metadata": {},
   "outputs": [],
   "source": [
    "def count_dist(boundaries):\n",
    "    dist = {k:0 for k in range(len(boundaries1) - 1)}\n",
    "    for el in df[col1]:\n",
    "        for bound in range(len(boundaries1) - 1):\n",
    "            if el > boundaries[bound] and el <= boundaries[bound + 1]:\n",
    "                value = dist[bound]\n",
    "                value += 1\n",
    "                dist[bound] = value\n"
   ]
  },
  {
   "cell_type": "code",
   "execution_count": 66,
   "metadata": {},
   "outputs": [],
   "source": [
    "dist1 = count_dist(boundaries1)\n",
    "dist2 = count_dist(boundaries2)\n",
    "dist3 = count_dist(boundaries3)"
   ]
  },
  {
   "cell_type": "code",
   "execution_count": 77,
   "metadata": {
    "scrolled": true
   },
   "outputs": [],
   "source": [
    "def count_cont_table(boundaries1, boundaries2):\n",
    "    matrix = np.zeros((len(boundaries1) - 1,len(boundaries2) - 1))\n",
    "    for _, el in df.iterrows():\n",
    "        idx1 = 0\n",
    "        idx2 = 0\n",
    "        for bound1 in range(len(boundaries1) - 1):\n",
    "            if el[col1] > boundaries1[bound1] and el[col1] <= boundaries1[bound1 + 1]:\n",
    "                idx1 = bound1\n",
    "        for bound2 in range(len(boundaries2) - 1):\n",
    "            if el[col2] > boundaries2[bound2] and el[col2] <= boundaries2[bound2 + 1]:\n",
    "                idx2 = bound2\n",
    "        value = matrix[idx1][idx2]\n",
    "        value += 1\n",
    "        matrix[idx1][idx2] = value\n",
    "\n",
    "    table = pd.DataFrame(matrix)\n",
    "    table['Total'] = table.sum(axis=1)\n",
    "\n",
    "    table_total = pd.DataFrame([table.sum(axis=0)], index=['Total'])\n",
    "    table = pd.concat([table, table_total])\n",
    "    return table"
   ]
  },
  {
   "cell_type": "code",
   "execution_count": 78,
   "metadata": {},
   "outputs": [],
   "source": [
    "matrix12 = count_cont_table(boundaries1, boundaries2)\n",
    "matrix13 = count_cont_table(boundaries1, boundaries3)"
   ]
  },
  {
   "cell_type": "code",
   "execution_count": 82,
   "metadata": {},
   "outputs": [],
   "source": [
    "def count_quetelet_table(table, table_total):\n",
    "    conditioanl_prob = pd.concat([table.iloc[:-1] / table.iloc[-1], table_total])\n",
    "    quetelet = conditioanl_prob.iloc[:-1, :-1]\n",
    "    quetelet = (quetelet.sub(conditioanl_prob.iloc[:-1, -1], axis='index').iloc[:-1, :-1])\\\n",
    "    .div(conditioanl_prob.iloc[:-1, -1], axis='index')\n",
    "    quetelet['Total'] = conditioanl_prob.iloc[:-1, -1]\n",
    "    quetelet = pd.concat([quetelet, table_total])\n",
    "    quetelet =quetelet.rename(columns={\"Total\": \"phk\"})\n",
    "    return quetelet"
   ]
  },
  {
   "cell_type": "code",
   "execution_count": 84,
   "metadata": {},
   "outputs": [],
   "source": [
    "quetelet12 = count_quetelet_table(matrix12, pd.DataFrame([matrix12.sum(axis=0)], index=['Total']))\n",
    "quetelet13 = count_quetelet_table(matrix13, pd.DataFrame([matrix13.sum(axis=0)], index=['Total']))"
   ]
  },
  {
   "cell_type": "code",
   "execution_count": 87,
   "metadata": {},
   "outputs": [],
   "source": [
    "def count_phi(table, dist1, dist2):\n",
    "    matrix = np.zeros((len(dist1), len(dist2)))\n",
    "    for i in range(len(dist1)):\n",
    "        for j in range(len(dist2)):\n",
    "            matrix[i][j] = dist1[i] * dist2[j] / table.shape[0]**2\n",
    "    hi = 0\n",
    "    for i in range(len(dist1)):\n",
    "        for j in range(len(dist2)):\n",
    "            hi += (table.iloc[i, j] / table.shape[0] - matrix[i, j])**2 / matrix[i, j]"
   ]
  }
 ],
 "metadata": {
  "kernelspec": {
   "display_name": "Python 3",
   "language": "python",
   "name": "python3"
  },
  "language_info": {
   "codemirror_mode": {
    "name": "ipython",
    "version": 3
   },
   "file_extension": ".py",
   "mimetype": "text/x-python",
   "name": "python",
   "nbconvert_exporter": "python",
   "pygments_lexer": "ipython3",
   "version": "3.9.0"
  }
 },
 "nbformat": 4,
 "nbformat_minor": 4
}
